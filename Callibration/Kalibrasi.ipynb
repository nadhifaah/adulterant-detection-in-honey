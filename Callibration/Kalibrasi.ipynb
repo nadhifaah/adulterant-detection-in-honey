{
 "cells": [
  {
   "cell_type": "code",
   "execution_count": 1,
   "metadata": {},
   "outputs": [],
   "source": [
    "import cv2 \n",
    "import pandas as pd \n",
    "import numpy as np \n",
    "import matplotlib.pyplot as plt\n",
    "import urllib.request"
   ]
  },
  {
   "cell_type": "code",
   "execution_count": 2,
   "metadata": {},
   "outputs": [],
   "source": [
    "# Function to Resize Image, Keep Aspect Ratio \n",
    "\n",
    "def image_resize(image, width = None, height = None, inter = cv2.INTER_AREA):\n",
    "    # initialize the dimensions of the image to be resized and\n",
    "    # grab the image size\n",
    "    dim = None\n",
    "    (h, w) = image.shape[:2]\n",
    "\n",
    "    # if both the width and height are None, then return the\n",
    "    # original image\n",
    "    if width is None and height is None:\n",
    "        return image\n",
    "\n",
    "    # check to see if the width is None\n",
    "    if width is None:\n",
    "        # calculate the ratio of the height and construct the\n",
    "        # dimensions\n",
    "        r = height / float(h)\n",
    "        dim = (int(w * r), height)\n",
    "\n",
    "    # otherwise, the height is None\n",
    "    else:\n",
    "        # calculate the ratio of the width and construct the\n",
    "        # dimensions\n",
    "        r = width / float(w)\n",
    "        dim = (width, int(h * r))\n",
    "\n",
    "    # resize the image\n",
    "    resized = cv2.resize(image, dim, interpolation = inter)\n",
    "\n",
    "    # return the resized image\n",
    "    return resized"
   ]
  },
  {
   "cell_type": "code",
   "execution_count": 8,
   "metadata": {},
   "outputs": [
    {
     "name": "stdout",
     "output_type": "stream",
     "text": [
      "(181, 74, 79, 75)\n",
      "Cropped image of 100.jpg have been written\n",
      "Cropped image of 112.jpg have been written\n",
      "Cropped image of 120.jpg have been written\n",
      "Cropped image of 132.jpg have been written\n",
      "Cropped image of 60.jpg have been written\n",
      "Cropped image of 72.jpg have been written\n",
      "Cropped image of 80.jpg have been written\n",
      "Cropped image of 92.jpg have been written\n"
     ]
    }
   ],
   "source": [
    "import os \n",
    "color_checker_dir = r'D:\\Kuliah\\Tugas Akhir yey\\Kalibrasi\\Color checker'\n",
    "color_checker_list = os.listdir(color_checker_dir)\n",
    "\n",
    "img_1 = cv2.imread(os.path.join(color_checker_dir, color_checker_list[0]))\n",
    "img_1_resized = image_resize(img_1, width=1080)\n",
    "roi = cv2.selectROI(img_1_resized)\n",
    "print(roi)\n",
    "roi_cropped_1 = img_1_resized[int(roi[1]):int(roi[1]+roi[3]), int(roi[0]):int(roi[0]+roi[2])]\n",
    "cv2.imshow(\"ROI sample\", roi_cropped_1)\n",
    "cv2.waitKey(0)\n",
    "cv2.destroyAllWindows()\n",
    "\n",
    "for color_checker in color_checker_list: \n",
    "    img = cv2.imread(os.path.join(color_checker_dir, color_checker))\n",
    "    img_resized = image_resize(img, width=1080)\n",
    "    roi_cropped = img_resized[int(roi[1]):int(roi[1]+roi[3]), int(roi[0]):int(roi[0]+roi[2])]\n",
    "    cv2.imwrite(\"cropped_black_\" + color_checker, roi_cropped)\n",
    "    print(\"Cropped image of \" + color_checker + \" have been written\")"
   ]
  },
  {
   "cell_type": "code",
   "execution_count": 24,
   "metadata": {},
   "outputs": [],
   "source": [
    "# Color data \n",
    "# RGB \n",
    "RGB_red = [175, 54, 60]\n",
    "RGB_green = [70, 148, 73]\n",
    "RGB_blue = [56, 61, 150]\n",
    "RGB_yellow = [231, 199, 31]\n",
    "RGB_orange = [224, 163, 46]\n",
    "RGB_white = [243, 243, 242]\n",
    "RGB_black = [52, 52, 52]\n",
    "\n",
    "#LAB \n",
    "LAB_red = [175, 54, 60]\n",
    "LAB_green = [70, 148, 73]\n",
    "LAB_blue = [28.778, 61, 150]\n",
    "LAB_yellow = [81.733, 4.039, 79.819]\n",
    "LAB_orange = [71.941, 19.363, 67.857]\n",
    "LAB_white = [96.539, 243, 242]\n",
    "LAB_black = [20.461, -0.079, -0.973]"
   ]
  },
  {
   "cell_type": "code",
   "execution_count": 25,
   "metadata": {},
   "outputs": [
    {
     "name": "stdout",
     "output_type": "stream",
     "text": [
      "[60, 54, 175]\n",
      "[73, 148, 70]\n",
      "[150, 61, 56]\n",
      "[31, 199, 231]\n",
      "[46, 163, 224]\n",
      "[242, 243, 243]\n"
     ]
    }
   ],
   "source": [
    "# make BGR format\n",
    "RGB_colors = RGB_red, RGB_green, RGB_blue, RGB_yellow, RGB_orange, RGB_white\n",
    "for RGB_color in RGB_colors: \n",
    "    RGB_color.reverse()\n",
    "    print(RGB_color)"
   ]
  },
  {
   "cell_type": "code",
   "execution_count": 49,
   "metadata": {},
   "outputs": [
    {
     "ename": "error",
     "evalue": "OpenCV(4.0.1) C:\\ci\\opencv-suite_1573470242804\\work\\modules\\highgui\\src\\window.cpp:352: error: (-215:Assertion failed) size.width>0 && size.height>0 in function 'cv::imshow'\n",
     "output_type": "error",
     "traceback": [
      "\u001b[1;31m---------------------------------------------------------------------------\u001b[0m",
      "\u001b[1;31merror\u001b[0m                                     Traceback (most recent call last)",
      "\u001b[1;32m~\\AppData\\Local\\Temp/ipykernel_17264/116402033.py\u001b[0m in \u001b[0;36m<module>\u001b[1;34m\u001b[0m\n\u001b[0;32m      5\u001b[0m     \u001b[1;32mfor\u001b[0m \u001b[0mcolor_cropped_img\u001b[0m \u001b[1;32min\u001b[0m \u001b[0mos\u001b[0m\u001b[1;33m.\u001b[0m\u001b[0mlistdir\u001b[0m\u001b[1;33m(\u001b[0m\u001b[0mos\u001b[0m\u001b[1;33m.\u001b[0m\u001b[0mpath\u001b[0m\u001b[1;33m.\u001b[0m\u001b[0mjoin\u001b[0m\u001b[1;33m(\u001b[0m\u001b[0mcolors_path\u001b[0m\u001b[1;33m,\u001b[0m\u001b[0mcolors\u001b[0m\u001b[1;33m)\u001b[0m\u001b[1;33m)\u001b[0m\u001b[1;33m:\u001b[0m\u001b[1;33m\u001b[0m\u001b[1;33m\u001b[0m\u001b[0m\n\u001b[0;32m      6\u001b[0m         \u001b[0mimg_2\u001b[0m \u001b[1;33m=\u001b[0m \u001b[0mcv2\u001b[0m\u001b[1;33m.\u001b[0m\u001b[0mimread\u001b[0m\u001b[1;33m(\u001b[0m\u001b[0mos\u001b[0m\u001b[1;33m.\u001b[0m\u001b[0mlistdir\u001b[0m\u001b[1;33m(\u001b[0m\u001b[0mos\u001b[0m\u001b[1;33m.\u001b[0m\u001b[0mpath\u001b[0m\u001b[1;33m.\u001b[0m\u001b[0mjoin\u001b[0m\u001b[1;33m(\u001b[0m\u001b[0mcolors_path\u001b[0m\u001b[1;33m,\u001b[0m\u001b[0mcolors\u001b[0m\u001b[1;33m)\u001b[0m\u001b[1;33m)\u001b[0m\u001b[1;33m[\u001b[0m\u001b[1;36m0\u001b[0m\u001b[1;33m]\u001b[0m\u001b[1;33m)\u001b[0m\u001b[1;33m\u001b[0m\u001b[1;33m\u001b[0m\u001b[0m\n\u001b[1;32m----> 7\u001b[1;33m         \u001b[0mcv2\u001b[0m\u001b[1;33m.\u001b[0m\u001b[0mimshow\u001b[0m\u001b[1;33m(\u001b[0m\u001b[1;34m\"image\"\u001b[0m\u001b[1;33m,\u001b[0m\u001b[0mimg_2\u001b[0m\u001b[1;33m)\u001b[0m\u001b[1;33m\u001b[0m\u001b[1;33m\u001b[0m\u001b[0m\n\u001b[0m\u001b[0;32m      8\u001b[0m         \u001b[0mcv2\u001b[0m\u001b[1;33m.\u001b[0m\u001b[0mwaitKey\u001b[0m\u001b[1;33m(\u001b[0m\u001b[1;36m0\u001b[0m\u001b[1;33m)\u001b[0m\u001b[1;33m\u001b[0m\u001b[1;33m\u001b[0m\u001b[0m\n\u001b[0;32m      9\u001b[0m         \u001b[0mcv2\u001b[0m\u001b[1;33m.\u001b[0m\u001b[0mdestroyAllWindows\u001b[0m\u001b[1;33m(\u001b[0m\u001b[1;33m)\u001b[0m\u001b[1;33m\u001b[0m\u001b[1;33m\u001b[0m\u001b[0m\n",
      "\u001b[1;31merror\u001b[0m: OpenCV(4.0.1) C:\\ci\\opencv-suite_1573470242804\\work\\modules\\highgui\\src\\window.cpp:352: error: (-215:Assertion failed) size.width>0 && size.height>0 in function 'cv::imshow'\n"
     ]
    }
   ],
   "source": [
    "colors_path = r'D:\\Kuliah\\Tugas Akhir yey\\Kalibrasi\\Colors'\n",
    "colors_list = os.listdir(colors_path)\n",
    "\n",
    "for colors in colors_list: \n",
    "    for color_cropped_img in os.listdir(os.path.join(colors_path,colors)): \n",
    "        img_2 = cv2.imread(os.listdir(os.path.join(colors_path,colors))[0])\n",
    "        cv2.imshow(\"image\",img_2)\n",
    "        cv2.waitKey(0)\n",
    "        cv2.destroyAllWindows()"
   ]
  },
  {
   "cell_type": "code",
   "execution_count": 46,
   "metadata": {},
   "outputs": [
    {
     "data": {
      "text/plain": [
       "['Black', 'Blue', 'Green', 'Orange', 'Red', 'red.jpg', 'White', 'Yellow']"
      ]
     },
     "execution_count": 46,
     "metadata": {},
     "output_type": "execute_result"
    }
   ],
   "source": [
    "colors_list"
   ]
  },
  {
   "cell_type": "code",
   "execution_count": 36,
   "metadata": {},
   "outputs": [
    {
     "data": {
      "text/plain": [
       "True"
      ]
     },
     "execution_count": 36,
     "metadata": {},
     "output_type": "execute_result"
    }
   ],
   "source": [
    "def generate_blank_image():\n",
    "    return np.ones(shape=(512,512,3), dtype=np.uint8)\n",
    "\n",
    "img2 = generate_blank_image()\n",
    "cv2.rectangle(img2, (400,300), (100, 100), tuple(RGB_red), -1)\n",
    "cv2.imshow(\"image\", img2)\n",
    "cv2.waitKey(0)\n",
    "\n",
    "cv2.imwrite(r'D:\\Kuliah\\Tugas Akhir yey\\Kalibrasi\\Colors\\red.jpg', img2)"
   ]
  },
  {
   "cell_type": "code",
   "execution_count": null,
   "metadata": {},
   "outputs": [],
   "source": [
    "#load image \n",
    "color_img = cv2.imread(r'D:\\Kuliah\\Tugas Akhir yey\\Kalibrasi\\Black\\cropped_black_60.jpg')\n"
   ]
  },
  {
   "cell_type": "code",
   "execution_count": null,
   "metadata": {},
   "outputs": [],
   "source": []
  }
 ],
 "metadata": {
  "interpreter": {
   "hash": "a627766028e1afa487c190715c31a3a78d3cd0b899c64b78f0c5396cdaabf534"
  },
  "kernelspec": {
   "display_name": "Python 3.8.5 ('project')",
   "language": "python",
   "name": "python3"
  },
  "language_info": {
   "codemirror_mode": {
    "name": "ipython",
    "version": 3
   },
   "file_extension": ".py",
   "mimetype": "text/x-python",
   "name": "python",
   "nbconvert_exporter": "python",
   "pygments_lexer": "ipython3",
   "version": "3.8.5"
  },
  "orig_nbformat": 4
 },
 "nbformat": 4,
 "nbformat_minor": 2
}
